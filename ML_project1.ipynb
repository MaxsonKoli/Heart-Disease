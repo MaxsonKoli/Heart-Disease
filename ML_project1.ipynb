{
  "nbformat": 4,
  "nbformat_minor": 0,
  "metadata": {
    "colab": {
      "name": "ML_project1.ipynb",
      "provenance": [],
      "collapsed_sections": []
    },
    "kernelspec": {
      "name": "python3",
      "display_name": "Python 3"
    },
    "language_info": {
      "name": "python"
    }
  },
  "cells": [
    {
      "cell_type": "code",
      "execution_count": 14,
      "metadata": {
        "id": "gF_ZIyCdSXTL"
      },
      "outputs": [],
      "source": [
        "import pandas as pd\n",
        "import numpy as np"
      ]
    },
    {
      "cell_type": "code",
      "source": [
        "data =pd.read_csv('cardio_uncleaned.csv')\n",
        "\n",
        "\n",
        "y_value_counts= data['cardio'].value_counts()\n",
        "print(y_value_counts)\n",
        "\n",
        "print(data.shape)"
      ],
      "metadata": {
        "colab": {
          "base_uri": "https://localhost:8080/"
        },
        "id": "6-qm6uWsWHQ7",
        "outputId": "055ed315-0f86-410d-98f4-6587705c65e0"
      },
      "execution_count": 15,
      "outputs": [
        {
          "output_type": "stream",
          "name": "stdout",
          "text": [
            "0    35021\n",
            "1    34979\n",
            "Name: cardio, dtype: int64\n",
            "(70000, 13)\n"
          ]
        }
      ]
    },
    {
      "cell_type": "markdown",
      "source": [
        "DATA CLEANING"
      ],
      "metadata": {
        "id": "bAtVKFNhaTNg"
      }
    },
    {
      "cell_type": "code",
      "source": [
        "# delete the rows wich have ap_hi value less 60\n",
        "data.drop(data[data['ap_hi']<60].index,axis=0,inplace=True)\n",
        "\n",
        "# delete the rows which have ap_hi value high 240\n",
        "data.drop(data[data['ap_hi']>240].index,axis=0,inplace=True)\n",
        "\n",
        "# delete the rows that have ap_lo value high then 180\n",
        "data.drop(data[data['ap_lo']>180].index,axis=0,inplace=True)\n",
        "\n",
        "# delete the rows that have ap_low va;ue less then 40\n",
        "data.drop(data[data['ap_lo']<40].index,axis=0,inplace=True)\n",
        "\n",
        "#delete the rows that have weight less then 50kg\n",
        "data.drop(data[data['weight']<50].index,axis=0,inplace=True)\n",
        "\n",
        "#delete the row that have height less then 120cm \n",
        "data.drop(data[data['height']<120].index,axis=0,inplace=True)"
      ],
      "metadata": {
        "id": "66ZjicVBWvIk"
      },
      "execution_count": 16,
      "outputs": []
    },
    {
      "cell_type": "code",
      "source": [
        "# replace gender 1 to female and 2 to Male\n",
        "\n",
        "data['gender'] = data['gender'].replace(1,'female')\n",
        "data['gender'] = data['gender'].replace(2,'Male')\n",
        "\n",
        "#Replacing the Cholestoral and Glucose\n",
        "data['cholesterol'] = data['cholesterol'].replace(1,'Ch_average')\n",
        "data['cholesterol'] = data['cholesterol'].replace(2,'Ch_aboveaverage')\n",
        "data['cholesterol'] = data['cholesterol'].replace(3,'Ch_high!')\n",
        "\n",
        "\n",
        "data['gluc'] = data['gluc'].replace(1,'Gl_average')\n",
        "\n",
        "data['gluc'] = data['gluc'].replace(2,'Gl_aboveaverage')\n",
        "\n",
        "data['gluc'] = data['gluc'].replace(3,'Gl_high!')\n",
        "print(data.shape)\n",
        "print(data.head())"
      ],
      "metadata": {
        "colab": {
          "base_uri": "https://localhost:8080/"
        },
        "id": "YKHyBYUedZRi",
        "outputId": "a59ab426-dfeb-4dbd-dd8e-88650c118a1d"
      },
      "execution_count": 17,
      "outputs": [
        {
          "output_type": "stream",
          "name": "stdout",
          "text": [
            "(67746, 13)\n",
            "   id    age  gender  height  weight  ap_hi  ap_lo cholesterol        gluc  \\\n",
            "0   0  18393    Male     168    62.0    110     80  Ch_average  Gl_average   \n",
            "1   1  20228  female     156    85.0    140     90    Ch_high!  Gl_average   \n",
            "2   2  18857  female     165    64.0    130     70    Ch_high!  Gl_average   \n",
            "3   3  17623    Male     169    82.0    150    100  Ch_average  Gl_average   \n",
            "4   4  17474  female     156    56.0    100     60  Ch_average  Gl_average   \n",
            "\n",
            "   smoke  alco  active  cardio  \n",
            "0      0     0       1       0  \n",
            "1      0     0       1       1  \n",
            "2      0     0       0       1  \n",
            "3      0     0       1       1  \n",
            "4      0     0       0       0  \n"
          ]
        }
      ]
    },
    {
      "cell_type": "code",
      "source": [
        "data.head(5)"
      ],
      "metadata": {
        "colab": {
          "base_uri": "https://localhost:8080/",
          "height": 206
        },
        "id": "al_fP6d2fR5P",
        "outputId": "36ab5f89-4e0c-4c20-e47e-057a65adab7e"
      },
      "execution_count": 5,
      "outputs": [
        {
          "output_type": "execute_result",
          "data": {
            "text/plain": [
              "   id    age  gender  height  weight  ap_hi  ap_lo cholesterol        gluc  \\\n",
              "0   0  18393    Male     168    62.0    110     80  Ch_average  Gl_average   \n",
              "1   1  20228  female     156    85.0    140     90    Ch_high!  Gl_average   \n",
              "2   2  18857  female     165    64.0    130     70    Ch_high!  Gl_average   \n",
              "3   3  17623    Male     169    82.0    150    100  Ch_average  Gl_average   \n",
              "4   4  17474  female     156    56.0    100     60  Ch_average  Gl_average   \n",
              "\n",
              "   smoke  alco  active  cardio  \n",
              "0      0     0       1       0  \n",
              "1      0     0       1       1  \n",
              "2      0     0       0       1  \n",
              "3      0     0       1       1  \n",
              "4      0     0       0       0  "
            ],
            "text/html": [
              "\n",
              "  <div id=\"df-5ef4c480-ba8c-420f-a13a-0b07f9862486\">\n",
              "    <div class=\"colab-df-container\">\n",
              "      <div>\n",
              "<style scoped>\n",
              "    .dataframe tbody tr th:only-of-type {\n",
              "        vertical-align: middle;\n",
              "    }\n",
              "\n",
              "    .dataframe tbody tr th {\n",
              "        vertical-align: top;\n",
              "    }\n",
              "\n",
              "    .dataframe thead th {\n",
              "        text-align: right;\n",
              "    }\n",
              "</style>\n",
              "<table border=\"1\" class=\"dataframe\">\n",
              "  <thead>\n",
              "    <tr style=\"text-align: right;\">\n",
              "      <th></th>\n",
              "      <th>id</th>\n",
              "      <th>age</th>\n",
              "      <th>gender</th>\n",
              "      <th>height</th>\n",
              "      <th>weight</th>\n",
              "      <th>ap_hi</th>\n",
              "      <th>ap_lo</th>\n",
              "      <th>cholesterol</th>\n",
              "      <th>gluc</th>\n",
              "      <th>smoke</th>\n",
              "      <th>alco</th>\n",
              "      <th>active</th>\n",
              "      <th>cardio</th>\n",
              "    </tr>\n",
              "  </thead>\n",
              "  <tbody>\n",
              "    <tr>\n",
              "      <th>0</th>\n",
              "      <td>0</td>\n",
              "      <td>18393</td>\n",
              "      <td>Male</td>\n",
              "      <td>168</td>\n",
              "      <td>62.0</td>\n",
              "      <td>110</td>\n",
              "      <td>80</td>\n",
              "      <td>Ch_average</td>\n",
              "      <td>Gl_average</td>\n",
              "      <td>0</td>\n",
              "      <td>0</td>\n",
              "      <td>1</td>\n",
              "      <td>0</td>\n",
              "    </tr>\n",
              "    <tr>\n",
              "      <th>1</th>\n",
              "      <td>1</td>\n",
              "      <td>20228</td>\n",
              "      <td>female</td>\n",
              "      <td>156</td>\n",
              "      <td>85.0</td>\n",
              "      <td>140</td>\n",
              "      <td>90</td>\n",
              "      <td>Ch_high!</td>\n",
              "      <td>Gl_average</td>\n",
              "      <td>0</td>\n",
              "      <td>0</td>\n",
              "      <td>1</td>\n",
              "      <td>1</td>\n",
              "    </tr>\n",
              "    <tr>\n",
              "      <th>2</th>\n",
              "      <td>2</td>\n",
              "      <td>18857</td>\n",
              "      <td>female</td>\n",
              "      <td>165</td>\n",
              "      <td>64.0</td>\n",
              "      <td>130</td>\n",
              "      <td>70</td>\n",
              "      <td>Ch_high!</td>\n",
              "      <td>Gl_average</td>\n",
              "      <td>0</td>\n",
              "      <td>0</td>\n",
              "      <td>0</td>\n",
              "      <td>1</td>\n",
              "    </tr>\n",
              "    <tr>\n",
              "      <th>3</th>\n",
              "      <td>3</td>\n",
              "      <td>17623</td>\n",
              "      <td>Male</td>\n",
              "      <td>169</td>\n",
              "      <td>82.0</td>\n",
              "      <td>150</td>\n",
              "      <td>100</td>\n",
              "      <td>Ch_average</td>\n",
              "      <td>Gl_average</td>\n",
              "      <td>0</td>\n",
              "      <td>0</td>\n",
              "      <td>1</td>\n",
              "      <td>1</td>\n",
              "    </tr>\n",
              "    <tr>\n",
              "      <th>4</th>\n",
              "      <td>4</td>\n",
              "      <td>17474</td>\n",
              "      <td>female</td>\n",
              "      <td>156</td>\n",
              "      <td>56.0</td>\n",
              "      <td>100</td>\n",
              "      <td>60</td>\n",
              "      <td>Ch_average</td>\n",
              "      <td>Gl_average</td>\n",
              "      <td>0</td>\n",
              "      <td>0</td>\n",
              "      <td>0</td>\n",
              "      <td>0</td>\n",
              "    </tr>\n",
              "  </tbody>\n",
              "</table>\n",
              "</div>\n",
              "      <button class=\"colab-df-convert\" onclick=\"convertToInteractive('df-5ef4c480-ba8c-420f-a13a-0b07f9862486')\"\n",
              "              title=\"Convert this dataframe to an interactive table.\"\n",
              "              style=\"display:none;\">\n",
              "        \n",
              "  <svg xmlns=\"http://www.w3.org/2000/svg\" height=\"24px\"viewBox=\"0 0 24 24\"\n",
              "       width=\"24px\">\n",
              "    <path d=\"M0 0h24v24H0V0z\" fill=\"none\"/>\n",
              "    <path d=\"M18.56 5.44l.94 2.06.94-2.06 2.06-.94-2.06-.94-.94-2.06-.94 2.06-2.06.94zm-11 1L8.5 8.5l.94-2.06 2.06-.94-2.06-.94L8.5 2.5l-.94 2.06-2.06.94zm10 10l.94 2.06.94-2.06 2.06-.94-2.06-.94-.94-2.06-.94 2.06-2.06.94z\"/><path d=\"M17.41 7.96l-1.37-1.37c-.4-.4-.92-.59-1.43-.59-.52 0-1.04.2-1.43.59L10.3 9.45l-7.72 7.72c-.78.78-.78 2.05 0 2.83L4 21.41c.39.39.9.59 1.41.59.51 0 1.02-.2 1.41-.59l7.78-7.78 2.81-2.81c.8-.78.8-2.07 0-2.86zM5.41 20L4 18.59l7.72-7.72 1.47 1.35L5.41 20z\"/>\n",
              "  </svg>\n",
              "      </button>\n",
              "      \n",
              "  <style>\n",
              "    .colab-df-container {\n",
              "      display:flex;\n",
              "      flex-wrap:wrap;\n",
              "      gap: 12px;\n",
              "    }\n",
              "\n",
              "    .colab-df-convert {\n",
              "      background-color: #E8F0FE;\n",
              "      border: none;\n",
              "      border-radius: 50%;\n",
              "      cursor: pointer;\n",
              "      display: none;\n",
              "      fill: #1967D2;\n",
              "      height: 32px;\n",
              "      padding: 0 0 0 0;\n",
              "      width: 32px;\n",
              "    }\n",
              "\n",
              "    .colab-df-convert:hover {\n",
              "      background-color: #E2EBFA;\n",
              "      box-shadow: 0px 1px 2px rgba(60, 64, 67, 0.3), 0px 1px 3px 1px rgba(60, 64, 67, 0.15);\n",
              "      fill: #174EA6;\n",
              "    }\n",
              "\n",
              "    [theme=dark] .colab-df-convert {\n",
              "      background-color: #3B4455;\n",
              "      fill: #D2E3FC;\n",
              "    }\n",
              "\n",
              "    [theme=dark] .colab-df-convert:hover {\n",
              "      background-color: #434B5C;\n",
              "      box-shadow: 0px 1px 3px 1px rgba(0, 0, 0, 0.15);\n",
              "      filter: drop-shadow(0px 1px 2px rgba(0, 0, 0, 0.3));\n",
              "      fill: #FFFFFF;\n",
              "    }\n",
              "  </style>\n",
              "\n",
              "      <script>\n",
              "        const buttonEl =\n",
              "          document.querySelector('#df-5ef4c480-ba8c-420f-a13a-0b07f9862486 button.colab-df-convert');\n",
              "        buttonEl.style.display =\n",
              "          google.colab.kernel.accessAllowed ? 'block' : 'none';\n",
              "\n",
              "        async function convertToInteractive(key) {\n",
              "          const element = document.querySelector('#df-5ef4c480-ba8c-420f-a13a-0b07f9862486');\n",
              "          const dataTable =\n",
              "            await google.colab.kernel.invokeFunction('convertToInteractive',\n",
              "                                                     [key], {});\n",
              "          if (!dataTable) return;\n",
              "\n",
              "          const docLinkHtml = 'Like what you see? Visit the ' +\n",
              "            '<a target=\"_blank\" href=https://colab.research.google.com/notebooks/data_table.ipynb>data table notebook</a>'\n",
              "            + ' to learn more about interactive tables.';\n",
              "          element.innerHTML = '';\n",
              "          dataTable['output_type'] = 'display_data';\n",
              "          await google.colab.output.renderOutput(dataTable, element);\n",
              "          const docLink = document.createElement('div');\n",
              "          docLink.innerHTML = docLinkHtml;\n",
              "          element.appendChild(docLink);\n",
              "        }\n",
              "      </script>\n",
              "    </div>\n",
              "  </div>\n",
              "  "
            ]
          },
          "metadata": {},
          "execution_count": 5
        }
      ]
    },
    {
      "cell_type": "code",
      "source": [
        "data.to_csv(r'cardio_cleaned.csv')"
      ],
      "metadata": {
        "id": "V8qbHuXrfwSo"
      },
      "execution_count": 18,
      "outputs": []
    },
    {
      "cell_type": "markdown",
      "source": [
        "# **DATA** **PROCESSING**"
      ],
      "metadata": {
        "id": "-lQE_PKRCtEt"
      }
    },
    {
      "cell_type": "code",
      "source": [
        "datafile=pd.read_csv('cardio_cleaned.csv')# reading the cleaned dataset\n",
        "\n",
        "label = datafile['cardio'].values # output is seperated to a variable called label\n",
        "data = datafile.drop(['cardio'], axis=1) #Input is seperated to variable data\n",
        "print(label)\n",
        "print(data)"
      ],
      "metadata": {
        "colab": {
          "base_uri": "https://localhost:8080/"
        },
        "id": "lvg3VHVVU0_T",
        "outputId": "a137a16d-4222-4222-ebaf-7d32064f10ff"
      },
      "execution_count": 19,
      "outputs": [
        {
          "output_type": "stream",
          "name": "stdout",
          "text": [
            "[0 1 1 ... 1 1 0]\n",
            "       Unnamed: 0     id    age  gender  height  weight  ap_hi  ap_lo  \\\n",
            "0               0      0  18393    Male     168    62.0    110     80   \n",
            "1               1      1  20228  female     156    85.0    140     90   \n",
            "2               2      2  18857  female     165    64.0    130     70   \n",
            "3               3      3  17623    Male     169    82.0    150    100   \n",
            "4               4      4  17474  female     156    56.0    100     60   \n",
            "...           ...    ...    ...     ...     ...     ...    ...    ...   \n",
            "67741       69995  99993  19240    Male     168    76.0    120     80   \n",
            "67742       69996  99995  22601  female     158   126.0    140     90   \n",
            "67743       69997  99996  19066    Male     183   105.0    180     90   \n",
            "67744       69998  99998  22431  female     163    72.0    135     80   \n",
            "67745       69999  99999  20540  female     170    72.0    120     80   \n",
            "\n",
            "           cholesterol             gluc  smoke  alco  active  \n",
            "0           Ch_average       Gl_average      0     0       1  \n",
            "1             Ch_high!       Gl_average      0     0       1  \n",
            "2             Ch_high!       Gl_average      0     0       0  \n",
            "3           Ch_average       Gl_average      0     0       1  \n",
            "4           Ch_average       Gl_average      0     0       0  \n",
            "...                ...              ...    ...   ...     ...  \n",
            "67741       Ch_average       Gl_average      1     0       1  \n",
            "67742  Ch_aboveaverage  Gl_aboveaverage      0     0       1  \n",
            "67743         Ch_high!       Gl_average      0     1       0  \n",
            "67744       Ch_average  Gl_aboveaverage      0     0       0  \n",
            "67745  Ch_aboveaverage       Gl_average      0     0       1  \n",
            "\n",
            "[67746 rows x 13 columns]\n"
          ]
        }
      ]
    },
    {
      "cell_type": "code",
      "source": [
        "# split data  into training, validation, testing data\n",
        "from sklearn.model_selection import train_test_split # class to split data \n",
        "\n",
        "inputtrain, inputtest, outputtrain, outputtest = train_test_split(data, label, test_size=0.2, stratify=label)\n",
        "inputtrain, inputcv, outputtrain, outputcv = train_test_split(inputtrain, outputtrain, test_size=0.2, stratify=outputtrain)\n",
        "print(inputtrain.shape)\n",
        "print(inputcv.shape)\n",
        "print(inputtest.shape)\n",
        "print(outputtrain.shape)\n",
        "print(outputcv.shape)\n",
        "print(outputtest.shape)\n"
      ],
      "metadata": {
        "colab": {
          "base_uri": "https://localhost:8080/"
        },
        "id": "Q-Hqbt33XX-D",
        "outputId": "995b8848-2ed8-43d6-9479-06df99bd114a"
      },
      "execution_count": 20,
      "outputs": [
        {
          "output_type": "stream",
          "name": "stdout",
          "text": [
            "(43356, 13)\n",
            "(10840, 13)\n",
            "(13550, 13)\n",
            "(43356,)\n",
            "(10840,)\n",
            "(13550,)\n"
          ]
        }
      ]
    },
    {
      "cell_type": "code",
      "source": [
        "from sklearn.preprocessing import MinMaxScaler\n",
        "from sklearn.feature_extraction.text import CountVectorizer\n",
        "\n",
        "# scale age using min max\n",
        "scale = MinMaxScaler()\n",
        " # reshape because of minmax take column and scale\n",
        "scale.fit(inputtrain['age'].values.reshape(-1,1))\n",
        "inputtrain_age = scale.transform(inputtrain['age'].values.reshape(-1,1))\n",
        "inputcv_age = scale.transform(inputcv['age'].values.reshape(-1,1))\n",
        "inputtest_age = scale.transform(inputtest['age'].values.reshape(-1,1))\n",
        "print(inputtrain_age.shape)\n",
        "print(inputcv_age.shape)\n",
        "print(inputtest_age.shape)\n",
        "print(outputtrain.shape)\n",
        "print(outputcv.shape)\n",
        "print(outputtest.shape)\n",
        "print(\"..........................\")\n",
        "\n",
        "\n",
        "\n",
        "\n",
        "# convert gender to one hot encoding\n",
        "\n",
        "vec = CountVectorizer()\n",
        "vec.fit(inputtrain['gender'].values) \n",
        "\n",
        "inputtrain_gender = vec.transform(inputtrain['gender'].values)\n",
        "inputcv_gender = vec.transform(inputcv['gender'].values)\n",
        "inputtest_gender = vec.transform(inputtest['gender'].values)\n",
        "\n",
        "print(inputtrain_gender.shape)\n",
        "print(inputcv_gender.shape)\n",
        "print(inputtest_gender.shape)\n",
        "print(outputtrain.shape)\n",
        "print(outputcv.shape)\n",
        "print(outputtest.shape)\n",
        "print(\"..........................\")\n",
        "\n",
        "\n",
        "# scale height using min max\n",
        "scale = MinMaxScaler()\n",
        "scale.fit(inputtrain['height'].values.reshape(-1,1)) # reshape because of minmax take column and scale\n",
        "\n",
        "inputtrain_height = scale.transform(inputtrain['height'].values.reshape(-1,1))\n",
        "inputcv_height = scale.transform(inputcv['height'].values.reshape(-1,1))\n",
        "inputtest_height = scale.transform(inputtest['height'].values.reshape(-1,1))\n",
        "print(inputtrain_height.shape)\n",
        "print(inputcv_height.shape)\n",
        "print(inputtest_height.shape)\n",
        "print(outputtrain.shape)\n",
        "print(outputcv.shape)\n",
        "print(outputtest.shape)\n",
        "print(\"..........................\")\n",
        "\n",
        "\n",
        "# scale weight using min max\n",
        "scale = MinMaxScaler()\n",
        "scale.fit(inputtrain['weight'].values.reshape(-1,1)) # reshape because of minmax take column and scale\n",
        "\n",
        "inputtrain_weight = scale.transform(inputtrain['weight'].values.reshape(-1,1))\n",
        "inputcv_weight = scale.transform(inputcv['weight'].values.reshape(-1,1))\n",
        "inputtest_weight = scale.transform(inputtest['weight'].values.reshape(-1,1))\n",
        "print(inputtrain_weight.shape)\n",
        "print(inputcv_weight.shape)\n",
        "print(inputtest_weight.shape)\n",
        "print(outputtrain.shape)\n",
        "print(outputcv.shape)\n",
        "print(outputtest.shape)\n",
        "print(\"..........................\")\n",
        "\n",
        "\n",
        "# scale ap_hi using min max\n",
        "scale = MinMaxScaler()\n",
        "scale.fit(inputtrain['ap_hi'].values.reshape(-1,1)) # reshape because of minmax take column and scale\n",
        "\n",
        "inputtrain_ap_hi = scale.transform(inputtrain['ap_hi'].values.reshape(-1,1))\n",
        "inputcv_ap_hi = scale.transform(inputcv['ap_hi'].values.reshape(-1,1))\n",
        "inputtest_ap_hi = scale.transform(inputtest['ap_hi'].values.reshape(-1,1))\n",
        "print(inputtrain_ap_hi.shape)\n",
        "print(inputcv_ap_hi.shape)\n",
        "print(inputtest_ap_hi.shape)\n",
        "print(outputtrain.shape)\n",
        "print(outputcv.shape)\n",
        "print(outputtest.shape)\n",
        "print(\"..........................\")\n",
        "\n",
        "\n",
        "# scale ap_lo using min max\n",
        "scale = MinMaxScaler()\n",
        "scale.fit(inputtrain['ap_lo'].values.reshape(-1,1)) # reshape because of minmax take column and scale\n",
        "\n",
        "inputtrain_ap_lo = scale.transform(inputtrain['ap_lo'].values.reshape(-1,1))\n",
        "inputcv_ap_lo = scale.transform(inputcv['ap_lo'].values.reshape(-1,1))\n",
        "inputtest_ap_lo = scale.transform(inputtest['ap_lo'].values.reshape(-1,1))\n",
        "print(inputtrain_ap_lo.shape)\n",
        "print(inputcv_ap_lo.shape)\n",
        "print(inputtest_ap_lo.shape)\n",
        "print(outputtrain.shape)\n",
        "print(outputcv.shape)\n",
        "print(outputtest.shape)\n",
        "print(\"..........................\")\n",
        "\n",
        "\n",
        "# convert cholesterol to one hot encoding\n",
        "\n",
        "vec = CountVectorizer()\n",
        "vec.fit(inputtrain['cholesterol'].values) \n",
        "\n",
        "inputtrain_cholesterol = vec.transform(inputtrain['cholesterol'].values)\n",
        "inputcv_cholesterol = vec.transform(inputcv['cholesterol'].values)\n",
        "inputtest_cholesterol = vec.transform(inputtest['cholesterol'].values)\n",
        "\n",
        "print(inputtrain_cholesterol.shape)\n",
        "print(inputcv_cholesterol.shape)\n",
        "print(inputtest_cholesterol.shape)\n",
        "print(outputtrain.shape)\n",
        "print(outputcv.shape)\n",
        "print(outputtest.shape)\n",
        "print(\"..........................\")\n",
        "\n",
        "\n",
        "\n",
        "# convert gluc to one hot encoding\n",
        "\n",
        "vec = CountVectorizer()\n",
        "vec.fit(inputtrain['gluc'].values) \n",
        "\n",
        "inputtrain_gluc = vec.transform(inputtrain['gluc'].values)\n",
        "inputcv_gluc = vec.transform(inputcv['gluc'].values)\n",
        "inputtest_gluc = vec.transform(inputtest['gluc'].values)\n",
        "\n",
        "print(inputtrain_gluc.shape)\n",
        "print(inputcv_gluc.shape)\n",
        "print(inputtest_gluc.shape)\n",
        "print(outputtrain.shape)\n",
        "print(outputcv.shape)\n",
        "print(outputtest.shape)\n",
        "print(\"..........................\")\n",
        "\n",
        "\n",
        "# reshape binary feature smoke\n",
        "inputtrain_smoke = inputtrain['smoke'].values.reshape(-1,1)\n",
        "inputcv_smoke = inputcv['smoke'].values.reshape(-1,1)\n",
        "inputtest_smoke = inputtest['smoke'].values.reshape(-1,1)\n",
        "print(inputtrain_smoke.shape)\n",
        "print(inputcv_smoke.shape)\n",
        "print(inputtest_smoke.shape)\n",
        "print(outputtrain.shape)\n",
        "print(outputcv.shape)\n",
        "print(outputtest.shape)\n",
        "print(\"..........................\")\n",
        "\n",
        "\n",
        "\n",
        "# reshape binary feature alco\n",
        "inputtrain_alco = inputtrain['alco'].values.reshape(-1,1)\n",
        "inputcv_alco = inputcv['alco'].values.reshape(-1,1)\n",
        "inputtest_alco = inputtest['alco'].values.reshape(-1,1)\n",
        "print(inputtrain_alco.shape)\n",
        "print(inputcv_alco.shape)\n",
        "print(inputtest_alco.shape)\n",
        "print(outputtrain.shape)\n",
        "print(outputcv.shape)\n",
        "print(outputtest.shape)\n",
        "print(\"..........................\")\n",
        "\n",
        "\n",
        "# reshape binary feature active\n",
        "inputtrain_active = inputtrain['active'].values.reshape(-1,1)\n",
        "inputcv_active = inputcv['active'].values.reshape(-1,1)\n",
        "inputtest_active = inputtest['active'].values.reshape(-1,1)\n",
        "print(inputtrain_active.shape)\n",
        "print(inputcv_active.shape)\n",
        "print(inputtest_active.shape)\n",
        "print(outputtrain.shape)\n",
        "print(outputcv.shape)\n",
        "print(outputtest.shape)\n",
        "print(\"..........................\")\n"
      ],
      "metadata": {
        "colab": {
          "base_uri": "https://localhost:8080/"
        },
        "id": "0kagQzsNYmgO",
        "outputId": "74660322-8ab7-4ab1-b401-f1448eacde5e"
      },
      "execution_count": 21,
      "outputs": [
        {
          "output_type": "stream",
          "name": "stdout",
          "text": [
            "(43356, 1)\n",
            "(10840, 1)\n",
            "(13550, 1)\n",
            "(43356,)\n",
            "(10840,)\n",
            "(13550,)\n",
            "..........................\n",
            "(43356, 2)\n",
            "(10840, 2)\n",
            "(13550, 2)\n",
            "(43356,)\n",
            "(10840,)\n",
            "(13550,)\n",
            "..........................\n",
            "(43356, 1)\n",
            "(10840, 1)\n",
            "(13550, 1)\n",
            "(43356,)\n",
            "(10840,)\n",
            "(13550,)\n",
            "..........................\n",
            "(43356, 1)\n",
            "(10840, 1)\n",
            "(13550, 1)\n",
            "(43356,)\n",
            "(10840,)\n",
            "(13550,)\n",
            "..........................\n",
            "(43356, 1)\n",
            "(10840, 1)\n",
            "(13550, 1)\n",
            "(43356,)\n",
            "(10840,)\n",
            "(13550,)\n",
            "..........................\n",
            "(43356, 1)\n",
            "(10840, 1)\n",
            "(13550, 1)\n",
            "(43356,)\n",
            "(10840,)\n",
            "(13550,)\n",
            "..........................\n",
            "(43356, 3)\n",
            "(10840, 3)\n",
            "(13550, 3)\n",
            "(43356,)\n",
            "(10840,)\n",
            "(13550,)\n",
            "..........................\n",
            "(43356, 3)\n",
            "(10840, 3)\n",
            "(13550, 3)\n",
            "(43356,)\n",
            "(10840,)\n",
            "(13550,)\n",
            "..........................\n",
            "(43356, 1)\n",
            "(10840, 1)\n",
            "(13550, 1)\n",
            "(43356,)\n",
            "(10840,)\n",
            "(13550,)\n",
            "..........................\n",
            "(43356, 1)\n",
            "(10840, 1)\n",
            "(13550, 1)\n",
            "(43356,)\n",
            "(10840,)\n",
            "(13550,)\n",
            "..........................\n",
            "(43356, 1)\n",
            "(10840, 1)\n",
            "(13550, 1)\n",
            "(43356,)\n",
            "(10840,)\n",
            "(13550,)\n",
            "..........................\n"
          ]
        }
      ]
    },
    {
      "cell_type": "code",
      "source": [
        "# stack arrays horizontally\n",
        "\n",
        "from scipy.sparse import hstack\n",
        "\n",
        "train = hstack((inputtrain_age,inputtrain_gender,inputtrain_height,inputtrain_weight,inputtrain_ap_hi,inputtrain_ap_lo,inputtrain_cholesterol,inputtrain_gluc,inputtrain_smoke,inputtrain_alco,inputtrain_active)).tocsr()\n",
        "cv = hstack((inputcv_age,inputcv_gender,inputcv_height,inputcv_weight,inputcv_ap_hi,inputcv_ap_lo,inputcv_cholesterol,inputcv_gluc,inputcv_smoke,inputcv_alco,inputcv_active)).tocsr()\n",
        "test = hstack((inputtest_age,inputtest_gender,inputtest_height,inputtest_weight,inputtest_ap_hi,inputtest_ap_lo,inputtest_cholesterol,inputtest_gluc,inputtest_smoke,inputtest_alco,inputtest_active)).tocsr()\n",
        "\n",
        "print(train.shape)\n",
        "print(cv.shape)\n",
        "print(test.shape)\n",
        "print(outputtrain.shape)\n",
        "print(outputcv.shape)\n",
        "print(outputtest.shape)\n",
        "print(\"..........................\")\n",
        "\n",
        "print(train)"
      ],
      "metadata": {
        "colab": {
          "base_uri": "https://localhost:8080/"
        },
        "id": "0d0Ng9YlZMhS",
        "outputId": "3ceacd01-fe6c-4906-9875-071225447145"
      },
      "execution_count": 22,
      "outputs": [
        {
          "output_type": "stream",
          "name": "stdout",
          "text": [
            "(43356, 16)\n",
            "(10840, 16)\n",
            "(13550, 16)\n",
            "(43356,)\n",
            "(10840,)\n",
            "(13550,)\n",
            "..........................\n",
            "  (0, 0)\t0.5315854986774544\n",
            "  (0, 2)\t1.0\n",
            "  (0, 3)\t0.3769230769230769\n",
            "  (0, 4)\t0.18666666666666665\n",
            "  (0, 5)\t0.33333333333333337\n",
            "  (0, 6)\t0.2857142857142857\n",
            "  (0, 8)\t1.0\n",
            "  (0, 11)\t1.0\n",
            "  (0, 15)\t1.0\n",
            "  (1, 0)\t0.5808308697681654\n",
            "  (1, 2)\t1.0\n",
            "  (1, 3)\t0.34615384615384626\n",
            "  (1, 4)\t0.09999999999999998\n",
            "  (1, 5)\t0.33333333333333337\n",
            "  (1, 6)\t0.2857142857142857\n",
            "  (1, 8)\t1.0\n",
            "  (1, 11)\t1.0\n",
            "  (1, 15)\t1.0\n",
            "  (2, 0)\t0.7850474560448109\n",
            "  (2, 1)\t1.0\n",
            "  (2, 3)\t0.36923076923076925\n",
            "  (2, 4)\t0.14\n",
            "  (2, 5)\t0.33333333333333337\n",
            "  (2, 6)\t0.3571428571428571\n",
            "  (2, 8)\t1.0\n",
            "  :\t:\n",
            "  (43353, 0)\t0.7356464913645557\n",
            "  (43353, 2)\t1.0\n",
            "  (43353, 3)\t0.4076923076923078\n",
            "  (43353, 4)\t0.2666666666666667\n",
            "  (43353, 5)\t0.38888888888888884\n",
            "  (43353, 6)\t0.2857142857142857\n",
            "  (43353, 8)\t1.0\n",
            "  (43353, 11)\t1.0\n",
            "  (43354, 0)\t0.5731289870857321\n",
            "  (43354, 1)\t1.0\n",
            "  (43354, 3)\t0.32307692307692304\n",
            "  (43354, 4)\t0.14666666666666667\n",
            "  (43354, 5)\t0.33333333333333337\n",
            "  (43354, 6)\t0.2857142857142857\n",
            "  (43354, 8)\t1.0\n",
            "  (43354, 11)\t1.0\n",
            "  (43354, 15)\t1.0\n",
            "  (43355, 0)\t0.8485296405788081\n",
            "  (43355, 2)\t1.0\n",
            "  (43355, 3)\t0.42307692307692313\n",
            "  (43355, 4)\t0.22666666666666668\n",
            "  (43355, 5)\t0.38888888888888884\n",
            "  (43355, 6)\t0.2857142857142857\n",
            "  (43355, 8)\t1.0\n",
            "  (43355, 11)\t1.0\n"
          ]
        }
      ]
    },
    {
      "cell_type": "markdown",
      "source": [
        "**Logistic** **Regression**"
      ],
      "metadata": {
        "id": "qmJjKVHRBMU2"
      }
    },
    {
      "cell_type": "code",
      "source": [
        "from sklearn.linear_model import LogisticRegression\n",
        "import seaborn as sns\n",
        "import matplotlib.pyplot as plt\n",
        "from sklearn.metrics import confusion_matrix\n",
        "from sklearn.metrics import accuracy_score \n",
        "from sklearn.metrics import recall_score\n",
        "from sklearn.metrics import f1_score\n",
        "from sklearn.metrics import precision_score\n",
        "model = LogisticRegression()\n",
        "model.fit(train,outputtrain)"
      ],
      "metadata": {
        "colab": {
          "base_uri": "https://localhost:8080/"
        },
        "id": "H8r0oVhbZQfV",
        "outputId": "09debfbe-9ca6-4953-83bc-e400a6f139af"
      },
      "execution_count": 36,
      "outputs": [
        {
          "output_type": "stream",
          "name": "stderr",
          "text": [
            "/usr/local/lib/python3.7/dist-packages/sklearn/linear_model/_logistic.py:818: ConvergenceWarning: lbfgs failed to converge (status=1):\n",
            "STOP: TOTAL NO. of ITERATIONS REACHED LIMIT.\n",
            "\n",
            "Increase the number of iterations (max_iter) or scale the data as shown in:\n",
            "    https://scikit-learn.org/stable/modules/preprocessing.html\n",
            "Please also refer to the documentation for alternative solver options:\n",
            "    https://scikit-learn.org/stable/modules/linear_model.html#logistic-regression\n",
            "  extra_warning_msg=_LOGISTIC_SOLVER_CONVERGENCE_MSG,\n"
          ]
        },
        {
          "output_type": "execute_result",
          "data": {
            "text/plain": [
              "LogisticRegression()"
            ]
          },
          "metadata": {},
          "execution_count": 36
        }
      ]
    },
    {
      "cell_type": "code",
      "source": [
        "trainpredict = model.predict(train)\n",
        "testpredict = model.predict(test)\n",
        "\n",
        "\n",
        "print (\"Train confusion matrix \")\n",
        "trainaccuracy = accuracy_score(outputtrain,trainpredict)\n",
        "print(\"train Accuracy\",trainaccuracy)\n",
        "\n",
        "ax = sns.heatmap(confusion_matrix(outputtrain,trainpredict),annot=True,fmt='d')\n",
        "ax.set_ylim([0,2])\n",
        "plt.ylabel('actual values')\n",
        "plt.xlabel('predicted values')\n",
        "plt.show()\n",
        "\n",
        "\n",
        "print(\"Test confusion matrix\")\n",
        "\n",
        "bx=sns.heatmap(confusion_matrix(outputtest, testpredict),annot=True,fmt='d')\n",
        "bx.set_ylim([0,2])\n",
        "\n",
        "plt.ylabel('actual values')\n",
        "plt.xlabel('predicted values')\n",
        "plt.show()\n",
        "\n",
        "testaccuracy= accuracy_score(outputtest, testpredict)\n",
        "print(\"TestAccuracy = \",testaccuracy)\n",
        "testprecision = precision_score(outputtest,testpredict)\n",
        "print(\"precision = \",testprecision)\n",
        "sensitivity = recall_score(outputtest,testpredict)\n",
        "print(\"Sensitivity =\",sensitivity)\n",
        "f1_measure = f1_score(outputtest,testpredict)\n",
        "print(\"F1_score =\",f1_measure)\n",
        "\n",
        "\n",
        "\n",
        "\n",
        "\n"
      ],
      "metadata": {
        "colab": {
          "base_uri": "https://localhost:8080/",
          "height": 663
        },
        "id": "lzEVuQY3ZQJf",
        "outputId": "77d0ee72-abae-448d-ec59-bbd477ce88d4"
      },
      "execution_count": 39,
      "outputs": [
        {
          "output_type": "stream",
          "name": "stdout",
          "text": [
            "Train confusion matrix \n",
            "train Accuracy 0.7278577359535012\n"
          ]
        },
        {
          "output_type": "display_data",
          "data": {
            "text/plain": [
              "<Figure size 432x288 with 2 Axes>"
            ],
            "image/png": "[encoded data removed]"
          },
          "metadata": {
            "needs_background": "light"
          }
        },
        {
          "output_type": "stream",
          "name": "stdout",
          "text": [
            "Test confusion matrix\n"
          ]
        },
        {
          "output_type": "display_data",
          "data": {
            "text/plain": [
              "<Figure size 432x288 with 2 Axes>"
            ],
            "image/png": "[encoded data removed]"
          },
          "metadata": {
            "needs_background": "light"
          }
        },
        {
          "output_type": "stream",
          "name": "stdout",
          "text": [
            "TestAccuracy =  0.725239852398524\n",
            "precision =  0.7532641446267158\n",
            "Sensitivity = 0.6667654467328493\n",
            "F1_score = 0.7073803348266919\n"
          ]
        }
      ]
    },
    {
      "cell_type": "markdown",
      "source": [
        "***Support Vector Machine*** "
      ],
      "metadata": {
        "id": "glwl9Aga2_7C"
      }
    },
    {
      "cell_type": "code",
      "source": [
        "from sklearn.svm import SVC\n",
        "classifier = SVC()\n",
        "\n",
        "classifier.fit(train,outputtrain)\n",
        "\n"
      ],
      "metadata": {
        "id": "7NEH-QHiFy8_"
      },
      "execution_count": 40,
      "outputs": []
    },
    {
      "cell_type": "code",
      "source": [
        "trainpredict2 = classifier.predict(train)\n",
        "\n",
        "testpredict2 = classifier.predict(test)\n",
        "\n",
        "print (\"Train confusion matrix \")\n",
        "trainaccuracy2 = accuracy_score(outputtrain,trainpredict2)\n",
        "print(\"train Accuracy\",trainaccuracy2)\n",
        "\n",
        "ax = sns.heatmap(confusion_matrix(outputtrain,trainpredict2),annot=True,fmt='d')\n",
        "ax.set_ylim([0,2])\n",
        "plt.ylabel('actual values')\n",
        "plt.xlabel('predicted values')\n",
        "plt.show()\n",
        "\n",
        "\n",
        "\n",
        "print(\"Test confusion matrix\")\n",
        "\n",
        "bx=sns.heatmap(confusion_matrix(outputtest, testpredict2),annot=True,fmt='d')\n",
        "bx.set_ylim([0,2])\n",
        "\n",
        "plt.ylabel('actual values')\n",
        "plt.xlabel('predicted values')\n",
        "plt.show()\n",
        "\n",
        "testaccuracy2= accuracy_score(outputtest, testpredict2)\n",
        "print(\"TestAccuracy = \",testaccuracy2)\n",
        "testprecision2 = precision_score(outputtest,testpredict2)\n",
        "print(\"precision = \",testprecision2)\n",
        "sensitivity2 = recall_score(outputtest,testpredict2)\n",
        "print(\"Sensitivity =\",sensitivity2)\n",
        "f1_measure2 = f1_score(outputtest,testpredict2)\n",
        "print(\"F1_score =\",f1_measure2)"
      ],
      "metadata": {
        "colab": {
          "base_uri": "https://localhost:8080/",
          "height": 663
        },
        "id": "boCVf1qy7HjV",
        "outputId": "6fc2f78c-792f-4984-b754-27ef229ff49e"
      },
      "execution_count": 41,
      "outputs": [
        {
          "output_type": "stream",
          "name": "stdout",
          "text": [
            "Train confusion matrix \n",
            "train Accuracy 0.731478918719439\n"
          ]
        },
        {
          "output_type": "display_data",
          "data": {
            "text/plain": [
              "<Figure size 432x288 with 2 Axes>"
            ],
            "image/png": "[encoded data removed]"
          },
          "metadata": {
            "needs_background": "light"
          }
        },
        {
          "output_type": "stream",
          "name": "stdout",
          "text": [
            "Test confusion matrix\n"
          ]
        },
        {
          "output_type": "display_data",
          "data": {
            "text/plain": [
              "<Figure size 432x288 with 2 Axes>"
            ],
            "image/png": "[encoded data removed]"
          },
          "metadata": {
            "needs_background": "light"
          }
        },
        {
          "output_type": "stream",
          "name": "stdout",
          "text": [
            "TestAccuracy =  0.7315129151291513\n",
            "precision =  0.7628865979381443\n",
            "Sensitivity = 0.6688398281226848\n",
            "F1_score = 0.7127743565450814\n"
          ]
        }
      ]
    },
    {
      "cell_type": "markdown",
      "source": [
        "**Random Forest**"
      ],
      "metadata": {
        "id": "Fipx4oDi8CoI"
      }
    },
    {
      "cell_type": "code",
      "source": [
        "from sklearn.ensemble import RandomForestClassifier\n",
        "\n",
        "RFC = RandomForestClassifier()\n",
        "\n",
        "RFC.fit(train,outputtrain)"
      ],
      "metadata": {
        "colab": {
          "base_uri": "https://localhost:8080/"
        },
        "id": "38HHG2zE9XOx",
        "outputId": "05917ca8-e83b-488e-8f4f-601e9bd3eccd"
      },
      "execution_count": 45,
      "outputs": [
        {
          "output_type": "execute_result",
          "data": {
            "text/plain": [
              "RandomForestClassifier()"
            ]
          },
          "metadata": {},
          "execution_count": 45
        }
      ]
    },
    {
      "cell_type": "code",
      "source": [
        "rfc_train_predict = RFC.predict(train)\n",
        "\n",
        "rfc_test_predict = RFC.predict(test)\n",
        "\n",
        "rfc_train_accuracy = accuracy_score(outputtrain,rfc_train_predict)\n",
        "print(\"Training Accuracy\",rfc_train_accuracy)\n",
        "\n",
        "rfc_test_accuracy = accuracy_score(outputtest,rfc_test_predict)\n",
        "print(\"Test Accuracy\",rfc_test_accuracy)\n"
      ],
      "metadata": {
        "colab": {
          "base_uri": "https://localhost:8080/"
        },
        "id": "QE_HFu2q-q2G",
        "outputId": "5bb0d5e0-3f6a-4094-c6a3-0f320202287e"
      },
      "execution_count": 48,
      "outputs": [
        {
          "output_type": "stream",
          "name": "stdout",
          "text": [
            "Training Accuracy 0.999792416274564\n",
            "Test Accuracy 0.7088560885608856\n"
          ]
        }
      ]
    },
    {
      "cell_type": "markdown",
      "source": [
        "**Decision Tree**"
      ],
      "metadata": {
        "id": "7ELmLVqlAZ2L"
      }
    },
    {
      "cell_type": "code",
      "source": [
        "from sklearn.tree import DecisionTreeClassifier\n",
        "\n",
        "DTC = DecisionTreeClassifier()\n",
        "\n",
        "DTC.fit(train,outputtrain)"
      ],
      "metadata": {
        "colab": {
          "base_uri": "https://localhost:8080/"
        },
        "id": "iUCVFl0EAeqE",
        "outputId": "82f8a802-ffe3-49ac-8d5b-25c0ce0f9f48"
      },
      "execution_count": 52,
      "outputs": [
        {
          "output_type": "execute_result",
          "data": {
            "text/plain": [
              "DecisionTreeClassifier()"
            ]
          },
          "metadata": {},
          "execution_count": 52
        }
      ]
    },
    {
      "cell_type": "code",
      "source": [
        "dtc_train_predict = DTC.predict(train)\n",
        "\n",
        "dtc_test_predict = DTC.predict(test)\n",
        "\n",
        "dtc_train_accuracy = accuracy_score(outputtrain,dtc_train_predict)\n",
        "print(\"Train accuracy\", dtc_train_accuracy)\n",
        "dtc_test_accuracy = accuracy_score(outputtest,dtc_test_predict)\n",
        "print(\"Test Accuracy\",dtc_test_accuracy)\n"
      ],
      "metadata": {
        "colab": {
          "base_uri": "https://localhost:8080/"
        },
        "id": "eO4t3C3QAw63",
        "outputId": "4aaea094-9ca8-469c-ec37-5041e5c9ab33"
      },
      "execution_count": 54,
      "outputs": [
        {
          "output_type": "stream",
          "name": "stdout",
          "text": [
            "Train accuracy 0.9998385459913276\n",
            "Test Accuracy 0.6318819188191882\n"
          ]
        }
      ]
    }
  ]
}